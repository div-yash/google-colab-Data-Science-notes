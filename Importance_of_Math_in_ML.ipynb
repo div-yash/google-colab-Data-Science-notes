{
  "nbformat": 4,
  "nbformat_minor": 0,
  "metadata": {
    "colab": {
      "provenance": [],
      "authorship_tag": "ABX9TyOQYj7HaHCPOYuIDUEZtwZ5",
      "include_colab_link": true
    },
    "kernelspec": {
      "name": "python3",
      "display_name": "Python 3"
    },
    "language_info": {
      "name": "python"
    }
  },
  "cells": [
    {
      "cell_type": "markdown",
      "metadata": {
        "id": "view-in-github",
        "colab_type": "text"
      },
      "source": [
        "<a href=\"https://colab.research.google.com/github/div-yash/google-colab-Data-Science-notes/blob/main/Importance_of_Math_in_ML.ipynb\" target=\"_parent\"><img src=\"https://colab.research.google.com/assets/colab-badge.svg\" alt=\"Open In Colab\"/></a>"
      ]
    },
    {
      "cell_type": "markdown",
      "source": [
        "Importance of Math in ML :"
      ],
      "metadata": {
        "id": "xmZ_NWBdclgP"
      }
    },
    {
      "cell_type": "markdown",
      "source": [
        "Data\n",
        "\n",
        "\n",
        "\n",
        "Model\n",
        "\n",
        "\n",
        "\n",
        "\n",
        "Training  "
      ],
      "metadata": {
        "id": "OJCZ_jx1cvKl"
      }
    },
    {
      "cell_type": "markdown",
      "source": [
        "Mathematics for Machine Learning:\n",
        "\n",
        "M1. Linear Algebra: Vector and Matrix\n",
        "\n",
        "M2. Statistics\n",
        "\n",
        "M3. Probability\n",
        "\n",
        "M4. Calculas"
      ],
      "metadata": {
        "id": "goZc19UOdB0w"
      }
    },
    {
      "cell_type": "code",
      "source": [],
      "metadata": {
        "id": "0VMoCbxkcuVZ"
      },
      "execution_count": null,
      "outputs": []
    }
  ]
}